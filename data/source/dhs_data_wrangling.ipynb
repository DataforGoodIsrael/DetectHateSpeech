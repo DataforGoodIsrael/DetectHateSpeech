{
 "cells": [
  {
   "cell_type": "code",
   "execution_count": 0,
   "metadata": {
    "colab": {},
    "colab_type": "code",
    "id": "RXt9mX7pieIK"
   },
   "outputs": [],
   "source": [
    "import pandas as pd"
   ]
  },
  {
   "cell_type": "markdown",
   "metadata": {
    "colab_type": "text",
    "id": "z0pZnk0qieIU"
   },
   "source": [
    "# Hate-speech, offensive language, neither"
   ]
  },
  {
   "cell_type": "code",
   "execution_count": 0,
   "metadata": {
    "colab": {},
    "colab_type": "code",
    "id": "LkO11SdtieIW"
   },
   "outputs": [],
   "source": [
    "davidson = pd.read_csv(\"labeled_data.csv\")"
   ]
  },
  {
   "cell_type": "code",
   "execution_count": 0,
   "metadata": {
    "colab": {},
    "colab_type": "code",
    "id": "kWKCCn_-ieIb",
    "outputId": "280a9b20-5579-4a4d-aade-400468a04e6e"
   },
   "outputs": [
    {
     "data": {
      "text/html": [
       "<div>\n",
       "<style scoped>\n",
       "    .dataframe tbody tr th:only-of-type {\n",
       "        vertical-align: middle;\n",
       "    }\n",
       "\n",
       "    .dataframe tbody tr th {\n",
       "        vertical-align: top;\n",
       "    }\n",
       "\n",
       "    .dataframe thead th {\n",
       "        text-align: right;\n",
       "    }\n",
       "</style>\n",
       "<table border=\"1\" class=\"dataframe\">\n",
       "  <thead>\n",
       "    <tr style=\"text-align: right;\">\n",
       "      <th></th>\n",
       "      <th>Unnamed: 0</th>\n",
       "      <th>count</th>\n",
       "      <th>hate_speech</th>\n",
       "      <th>offensive_language</th>\n",
       "      <th>neither</th>\n",
       "      <th>class</th>\n",
       "      <th>tweet</th>\n",
       "    </tr>\n",
       "  </thead>\n",
       "  <tbody>\n",
       "    <tr>\n",
       "      <th>0</th>\n",
       "      <td>0</td>\n",
       "      <td>3</td>\n",
       "      <td>0</td>\n",
       "      <td>0</td>\n",
       "      <td>3</td>\n",
       "      <td>2</td>\n",
       "      <td>!!! RT @mayasolovely: As a woman you shouldn't...</td>\n",
       "    </tr>\n",
       "    <tr>\n",
       "      <th>1</th>\n",
       "      <td>1</td>\n",
       "      <td>3</td>\n",
       "      <td>0</td>\n",
       "      <td>3</td>\n",
       "      <td>0</td>\n",
       "      <td>1</td>\n",
       "      <td>!!!!! RT @mleew17: boy dats cold...tyga dwn ba...</td>\n",
       "    </tr>\n",
       "    <tr>\n",
       "      <th>2</th>\n",
       "      <td>2</td>\n",
       "      <td>3</td>\n",
       "      <td>0</td>\n",
       "      <td>3</td>\n",
       "      <td>0</td>\n",
       "      <td>1</td>\n",
       "      <td>!!!!!!! RT @UrKindOfBrand Dawg!!!! RT @80sbaby...</td>\n",
       "    </tr>\n",
       "    <tr>\n",
       "      <th>3</th>\n",
       "      <td>3</td>\n",
       "      <td>3</td>\n",
       "      <td>0</td>\n",
       "      <td>2</td>\n",
       "      <td>1</td>\n",
       "      <td>1</td>\n",
       "      <td>!!!!!!!!! RT @C_G_Anderson: @viva_based she lo...</td>\n",
       "    </tr>\n",
       "    <tr>\n",
       "      <th>4</th>\n",
       "      <td>4</td>\n",
       "      <td>6</td>\n",
       "      <td>0</td>\n",
       "      <td>6</td>\n",
       "      <td>0</td>\n",
       "      <td>1</td>\n",
       "      <td>!!!!!!!!!!!!! RT @ShenikaRoberts: The shit you...</td>\n",
       "    </tr>\n",
       "  </tbody>\n",
       "</table>\n",
       "</div>"
      ],
      "text/plain": [
       "   Unnamed: 0  count  hate_speech  offensive_language  neither  class  \\\n",
       "0           0      3            0                   0        3      2   \n",
       "1           1      3            0                   3        0      1   \n",
       "2           2      3            0                   3        0      1   \n",
       "3           3      3            0                   2        1      1   \n",
       "4           4      6            0                   6        0      1   \n",
       "\n",
       "                                               tweet  \n",
       "0  !!! RT @mayasolovely: As a woman you shouldn't...  \n",
       "1  !!!!! RT @mleew17: boy dats cold...tyga dwn ba...  \n",
       "2  !!!!!!! RT @UrKindOfBrand Dawg!!!! RT @80sbaby...  \n",
       "3  !!!!!!!!! RT @C_G_Anderson: @viva_based she lo...  \n",
       "4  !!!!!!!!!!!!! RT @ShenikaRoberts: The shit you...  "
      ]
     },
     "execution_count": 3,
     "metadata": {
      "tags": []
     },
     "output_type": "execute_result"
    }
   ],
   "source": [
    "davidson.head()"
   ]
  },
  {
   "cell_type": "code",
   "execution_count": 0,
   "metadata": {
    "colab": {},
    "colab_type": "code",
    "id": "aHRzVdERieIi",
    "outputId": "8f0bcd61-f378-4771-cccb-56f0c2e9614a"
   },
   "outputs": [
    {
     "data": {
      "text/html": [
       "<div>\n",
       "<style scoped>\n",
       "    .dataframe tbody tr th:only-of-type {\n",
       "        vertical-align: middle;\n",
       "    }\n",
       "\n",
       "    .dataframe tbody tr th {\n",
       "        vertical-align: top;\n",
       "    }\n",
       "\n",
       "    .dataframe thead th {\n",
       "        text-align: right;\n",
       "    }\n",
       "</style>\n",
       "<table border=\"1\" class=\"dataframe\">\n",
       "  <thead>\n",
       "    <tr style=\"text-align: right;\">\n",
       "      <th></th>\n",
       "      <th>count</th>\n",
       "      <th>mean</th>\n",
       "      <th>std</th>\n",
       "      <th>min</th>\n",
       "      <th>25%</th>\n",
       "      <th>50%</th>\n",
       "      <th>75%</th>\n",
       "      <th>max</th>\n",
       "    </tr>\n",
       "  </thead>\n",
       "  <tbody>\n",
       "    <tr>\n",
       "      <th>Unnamed: 0</th>\n",
       "      <td>24783.0</td>\n",
       "      <td>12681.192027</td>\n",
       "      <td>7299.553863</td>\n",
       "      <td>0.0</td>\n",
       "      <td>6372.5</td>\n",
       "      <td>12703.0</td>\n",
       "      <td>18995.5</td>\n",
       "      <td>25296.0</td>\n",
       "    </tr>\n",
       "    <tr>\n",
       "      <th>count</th>\n",
       "      <td>24783.0</td>\n",
       "      <td>3.243473</td>\n",
       "      <td>0.883060</td>\n",
       "      <td>3.0</td>\n",
       "      <td>3.0</td>\n",
       "      <td>3.0</td>\n",
       "      <td>3.0</td>\n",
       "      <td>9.0</td>\n",
       "    </tr>\n",
       "    <tr>\n",
       "      <th>hate_speech</th>\n",
       "      <td>24783.0</td>\n",
       "      <td>0.280515</td>\n",
       "      <td>0.631851</td>\n",
       "      <td>0.0</td>\n",
       "      <td>0.0</td>\n",
       "      <td>0.0</td>\n",
       "      <td>0.0</td>\n",
       "      <td>7.0</td>\n",
       "    </tr>\n",
       "    <tr>\n",
       "      <th>offensive_language</th>\n",
       "      <td>24783.0</td>\n",
       "      <td>2.413711</td>\n",
       "      <td>1.399459</td>\n",
       "      <td>0.0</td>\n",
       "      <td>2.0</td>\n",
       "      <td>3.0</td>\n",
       "      <td>3.0</td>\n",
       "      <td>9.0</td>\n",
       "    </tr>\n",
       "    <tr>\n",
       "      <th>neither</th>\n",
       "      <td>24783.0</td>\n",
       "      <td>0.549247</td>\n",
       "      <td>1.113299</td>\n",
       "      <td>0.0</td>\n",
       "      <td>0.0</td>\n",
       "      <td>0.0</td>\n",
       "      <td>0.0</td>\n",
       "      <td>9.0</td>\n",
       "    </tr>\n",
       "    <tr>\n",
       "      <th>class</th>\n",
       "      <td>24783.0</td>\n",
       "      <td>1.110277</td>\n",
       "      <td>0.462089</td>\n",
       "      <td>0.0</td>\n",
       "      <td>1.0</td>\n",
       "      <td>1.0</td>\n",
       "      <td>1.0</td>\n",
       "      <td>2.0</td>\n",
       "    </tr>\n",
       "  </tbody>\n",
       "</table>\n",
       "</div>"
      ],
      "text/plain": [
       "                      count          mean          std  min     25%      50%  \\\n",
       "Unnamed: 0          24783.0  12681.192027  7299.553863  0.0  6372.5  12703.0   \n",
       "count               24783.0      3.243473     0.883060  3.0     3.0      3.0   \n",
       "hate_speech         24783.0      0.280515     0.631851  0.0     0.0      0.0   \n",
       "offensive_language  24783.0      2.413711     1.399459  0.0     2.0      3.0   \n",
       "neither             24783.0      0.549247     1.113299  0.0     0.0      0.0   \n",
       "class               24783.0      1.110277     0.462089  0.0     1.0      1.0   \n",
       "\n",
       "                        75%      max  \n",
       "Unnamed: 0          18995.5  25296.0  \n",
       "count                   3.0      9.0  \n",
       "hate_speech             0.0      7.0  \n",
       "offensive_language      3.0      9.0  \n",
       "neither                 0.0      9.0  \n",
       "class                   1.0      2.0  "
      ]
     },
     "execution_count": 4,
     "metadata": {
      "tags": []
     },
     "output_type": "execute_result"
    }
   ],
   "source": [
    "davidson.describe().T"
   ]
  },
  {
   "cell_type": "markdown",
   "metadata": {
    "colab_type": "text",
    "id": "_gYwMQwVieIm"
   },
   "source": [
    "#### Data guide:\n",
    "\n",
    "- count = number of CrowdFlower users who coded each tweet (min is 3, sometimes more users coded a tweet when judgments were determined to be unreliable by CF).\n",
    "\n",
    "- hate_speech = number of CF users who judged the tweet to be hate speech.\n",
    "\n",
    "- offensive_language = number of CF users who judged the tweet to be offensive.\n",
    "\n",
    "- neither = number of CF users who judged the tweet to be neither offensive nor non-offensive.\n",
    "\n",
    "- class = class label for majority of CF users.\n",
    "    - 0 - hate speech,\n",
    "    - 1 - offensive language,\n",
    "    - 2 - neither"
   ]
  },
  {
   "cell_type": "markdown",
   "metadata": {
    "colab_type": "text",
    "id": "7JNqBVvaieIo"
   },
   "source": [
    "# Sexism, racism, both, neither"
   ]
  },
  {
   "cell_type": "code",
   "execution_count": 0,
   "metadata": {
    "colab": {},
    "colab_type": "code",
    "id": "xxYDshuLieIp",
    "outputId": "a6a5feaf-3ac5-4f85-bf87-26c0a9b3fa3f"
   },
   "outputs": [
    {
     "data": {
      "text/html": [
       "<div>\n",
       "<style scoped>\n",
       "    .dataframe tbody tr th:only-of-type {\n",
       "        vertical-align: middle;\n",
       "    }\n",
       "\n",
       "    .dataframe tbody tr th {\n",
       "        vertical-align: top;\n",
       "    }\n",
       "\n",
       "    .dataframe thead th {\n",
       "        text-align: right;\n",
       "    }\n",
       "</style>\n",
       "<table border=\"1\" class=\"dataframe\">\n",
       "  <thead>\n",
       "    <tr style=\"text-align: right;\">\n",
       "      <th></th>\n",
       "      <th>Previous</th>\n",
       "      <th>User_ID</th>\n",
       "      <th>Text</th>\n",
       "      <th>Expert_Annotation</th>\n",
       "      <th>Amateur_Annotations</th>\n",
       "    </tr>\n",
       "    <tr>\n",
       "      <th>Tweet_ID</th>\n",
       "      <th></th>\n",
       "      <th></th>\n",
       "      <th></th>\n",
       "      <th></th>\n",
       "      <th></th>\n",
       "    </tr>\n",
       "  </thead>\n",
       "  <tbody>\n",
       "    <tr>\n",
       "      <th>570775709343461377</th>\n",
       "      <td>570775111814373376</td>\n",
       "      <td>24414732</td>\n",
       "      <td>@TVBachelor @NewJerzeyBoy what about the femin...</td>\n",
       "      <td>both</td>\n",
       "      <td>[neither,sexism,sexism]</td>\n",
       "    </tr>\n",
       "    <tr>\n",
       "      <th>596730741490253824</th>\n",
       "      <td>596729971009196032</td>\n",
       "      <td>13857342</td>\n",
       "      <td>@ThelmaSleaze uh... did you watch the video? o...</td>\n",
       "      <td>both</td>\n",
       "      <td>[neither,racism,sexism]</td>\n",
       "    </tr>\n",
       "    <tr>\n",
       "      <th>600800567426883585</th>\n",
       "      <td>NaN</td>\n",
       "      <td>254174483</td>\n",
       "      <td>Managed to hit a bird and a small rodent on my...</td>\n",
       "      <td>both</td>\n",
       "      <td>[neither,neither,neither]</td>\n",
       "    </tr>\n",
       "    <tr>\n",
       "      <th>603546751841230848</th>\n",
       "      <td>NaN</td>\n",
       "      <td>2264363900</td>\n",
       "      <td>If you believe a #holohoax or #gays, LGBT &amp;amp...</td>\n",
       "      <td>both</td>\n",
       "      <td>[sexism,both,sexism]</td>\n",
       "    </tr>\n",
       "    <tr>\n",
       "      <th>603584564582326272</th>\n",
       "      <td>NaN</td>\n",
       "      <td>2198745044</td>\n",
       "      <td>Rid yourself of #Feminazi, #Fag &amp;amp; #Jewf. E...</td>\n",
       "      <td>both</td>\n",
       "      <td>[sexism,sexism,sexism]</td>\n",
       "    </tr>\n",
       "  </tbody>\n",
       "</table>\n",
       "</div>"
      ],
      "text/plain": [
       "                              Previous     User_ID  \\\n",
       "Tweet_ID                                             \n",
       "570775709343461377  570775111814373376    24414732   \n",
       "596730741490253824  596729971009196032    13857342   \n",
       "600800567426883585                 NaN   254174483   \n",
       "603546751841230848                 NaN  2264363900   \n",
       "603584564582326272                 NaN  2198745044   \n",
       "\n",
       "                                                                 Text  \\\n",
       "Tweet_ID                                                                \n",
       "570775709343461377  @TVBachelor @NewJerzeyBoy what about the femin...   \n",
       "596730741490253824  @ThelmaSleaze uh... did you watch the video? o...   \n",
       "600800567426883585  Managed to hit a bird and a small rodent on my...   \n",
       "603546751841230848  If you believe a #holohoax or #gays, LGBT &amp...   \n",
       "603584564582326272  Rid yourself of #Feminazi, #Fag &amp; #Jewf. E...   \n",
       "\n",
       "                   Expert_Annotation        Amateur_Annotations  \n",
       "Tweet_ID                                                         \n",
       "570775709343461377              both    [neither,sexism,sexism]  \n",
       "596730741490253824              both    [neither,racism,sexism]  \n",
       "600800567426883585              both  [neither,neither,neither]  \n",
       "603546751841230848              both       [sexism,both,sexism]  \n",
       "603584564582326272              both     [sexism,sexism,sexism]  "
      ]
     },
     "execution_count": 5,
     "metadata": {
      "tags": []
     },
     "output_type": "execute_result"
    }
   ],
   "source": [
    "wassem_css = pd.read_csv(\"wassem_css.csv\", sep=\"\\t\", index_col=0, dtype={'Tweet_ID': int,\n",
    "                                                                         'Previous': str,\n",
    "                                                                         'User_ID': str,\n",
    "                                                                         'Text': str,\n",
    "                                                                         'Expert_Annotation': str, \n",
    "                                                                        'Amateur_Annotations': str})\n",
    "wassem_css.head()"
   ]
  },
  {
   "cell_type": "code",
   "execution_count": 0,
   "metadata": {
    "colab": {},
    "colab_type": "code",
    "id": "JZX-4DqGieIu"
   },
   "outputs": [],
   "source": [
    "# pb: Amateur_Annotations is a string\n",
    "wassem_css['Amateur_Annotations'] = wassem_css['Amateur_Annotations'].apply(lambda x:\n",
    "                                                                            x.split('[')[1].split(']')[0].split(\",\"))"
   ]
  },
  {
   "cell_type": "code",
   "execution_count": 0,
   "metadata": {
    "colab": {},
    "colab_type": "code",
    "id": "_UGYq9QLieI0",
    "outputId": "6b8bb5a9-7ef7-4670-fa1d-3b1a95366310"
   },
   "outputs": [
    {
     "data": {
      "text/html": [
       "<div>\n",
       "<style scoped>\n",
       "    .dataframe tbody tr th:only-of-type {\n",
       "        vertical-align: middle;\n",
       "    }\n",
       "\n",
       "    .dataframe tbody tr th {\n",
       "        vertical-align: top;\n",
       "    }\n",
       "\n",
       "    .dataframe thead th {\n",
       "        text-align: right;\n",
       "    }\n",
       "</style>\n",
       "<table border=\"1\" class=\"dataframe\">\n",
       "  <thead>\n",
       "    <tr style=\"text-align: right;\">\n",
       "      <th></th>\n",
       "      <th>both</th>\n",
       "      <th>neither</th>\n",
       "      <th>racism</th>\n",
       "      <th>sexism</th>\n",
       "      <th>Amateur_Annotation</th>\n",
       "    </tr>\n",
       "    <tr>\n",
       "      <th>Tweet_ID</th>\n",
       "      <th></th>\n",
       "      <th></th>\n",
       "      <th></th>\n",
       "      <th></th>\n",
       "      <th></th>\n",
       "    </tr>\n",
       "  </thead>\n",
       "  <tbody>\n",
       "    <tr>\n",
       "      <th>319399851215433729</th>\n",
       "      <td>0</td>\n",
       "      <td>1</td>\n",
       "      <td>1</td>\n",
       "      <td>1</td>\n",
       "      <td>neither</td>\n",
       "    </tr>\n",
       "    <tr>\n",
       "      <th>320817818222358529</th>\n",
       "      <td>0</td>\n",
       "      <td>3</td>\n",
       "      <td>0</td>\n",
       "      <td>0</td>\n",
       "      <td>neither</td>\n",
       "    </tr>\n",
       "    <tr>\n",
       "      <th>324114200450437120</th>\n",
       "      <td>0</td>\n",
       "      <td>1</td>\n",
       "      <td>2</td>\n",
       "      <td>0</td>\n",
       "      <td>racism</td>\n",
       "    </tr>\n",
       "    <tr>\n",
       "      <th>326286656854454273</th>\n",
       "      <td>0</td>\n",
       "      <td>3</td>\n",
       "      <td>0</td>\n",
       "      <td>0</td>\n",
       "      <td>neither</td>\n",
       "    </tr>\n",
       "    <tr>\n",
       "      <th>437874382954704896</th>\n",
       "      <td>0</td>\n",
       "      <td>3</td>\n",
       "      <td>0</td>\n",
       "      <td>0</td>\n",
       "      <td>neither</td>\n",
       "    </tr>\n",
       "  </tbody>\n",
       "</table>\n",
       "</div>"
      ],
      "text/plain": [
       "                    both  neither  racism  sexism Amateur_Annotation\n",
       "Tweet_ID                                                            \n",
       "319399851215433729     0        1       1       1            neither\n",
       "320817818222358529     0        3       0       0            neither\n",
       "324114200450437120     0        1       2       0             racism\n",
       "326286656854454273     0        3       0       0            neither\n",
       "437874382954704896     0        3       0       0            neither"
      ]
     },
     "execution_count": 7,
     "metadata": {
      "tags": []
     },
     "output_type": "execute_result"
    }
   ],
   "source": [
    "target = pd.DataFrame(wassem_css['Amateur_Annotations'].values.tolist(),\n",
    "                      index=wassem_css['Amateur_Annotations'].index).dropna(axis=1).add_prefix(\"user_\")\n",
    "target = pd.concat([pd.get_dummies(target.user_0),\n",
    "                    pd.get_dummies(target.user_1),\n",
    "                    pd.get_dummies(target.user_2)], axis=0).groupby('Tweet_ID').sum()\n",
    "del target[\"link\"]\n",
    "target['Amateur_Annotation'] = target.idxmax(axis=1)\n",
    "target.head()"
   ]
  },
  {
   "cell_type": "code",
   "execution_count": 0,
   "metadata": {
    "colab": {},
    "colab_type": "code",
    "id": "X8LwTjwTieI6",
    "outputId": "d76a00a0-0128-4f7b-8201-01218dba709d"
   },
   "outputs": [
    {
     "data": {
      "text/html": [
       "<div>\n",
       "<style scoped>\n",
       "    .dataframe tbody tr th:only-of-type {\n",
       "        vertical-align: middle;\n",
       "    }\n",
       "\n",
       "    .dataframe tbody tr th {\n",
       "        vertical-align: top;\n",
       "    }\n",
       "\n",
       "    .dataframe thead th {\n",
       "        text-align: right;\n",
       "    }\n",
       "</style>\n",
       "<table border=\"1\" class=\"dataframe\">\n",
       "  <thead>\n",
       "    <tr style=\"text-align: right;\">\n",
       "      <th></th>\n",
       "      <th>Previous</th>\n",
       "      <th>User_ID</th>\n",
       "      <th>Text</th>\n",
       "      <th>Expert_Annotation</th>\n",
       "      <th>Amateur_Annotations</th>\n",
       "      <th>both</th>\n",
       "      <th>neither</th>\n",
       "      <th>racism</th>\n",
       "      <th>sexism</th>\n",
       "      <th>Amateur_Annotation</th>\n",
       "    </tr>\n",
       "    <tr>\n",
       "      <th>Tweet_ID</th>\n",
       "      <th></th>\n",
       "      <th></th>\n",
       "      <th></th>\n",
       "      <th></th>\n",
       "      <th></th>\n",
       "      <th></th>\n",
       "      <th></th>\n",
       "      <th></th>\n",
       "      <th></th>\n",
       "      <th></th>\n",
       "    </tr>\n",
       "  </thead>\n",
       "  <tbody>\n",
       "    <tr>\n",
       "      <th>570775709343461377</th>\n",
       "      <td>570775111814373376</td>\n",
       "      <td>24414732</td>\n",
       "      <td>@TVBachelor @NewJerzeyBoy what about the femin...</td>\n",
       "      <td>both</td>\n",
       "      <td>[neither, sexism, sexism]</td>\n",
       "      <td>0</td>\n",
       "      <td>1</td>\n",
       "      <td>0</td>\n",
       "      <td>2</td>\n",
       "      <td>sexism</td>\n",
       "    </tr>\n",
       "    <tr>\n",
       "      <th>596730741490253824</th>\n",
       "      <td>596729971009196032</td>\n",
       "      <td>13857342</td>\n",
       "      <td>@ThelmaSleaze uh... did you watch the video? o...</td>\n",
       "      <td>both</td>\n",
       "      <td>[neither, racism, sexism]</td>\n",
       "      <td>0</td>\n",
       "      <td>1</td>\n",
       "      <td>1</td>\n",
       "      <td>1</td>\n",
       "      <td>neither</td>\n",
       "    </tr>\n",
       "    <tr>\n",
       "      <th>600800567426883585</th>\n",
       "      <td>NaN</td>\n",
       "      <td>254174483</td>\n",
       "      <td>Managed to hit a bird and a small rodent on my...</td>\n",
       "      <td>both</td>\n",
       "      <td>[neither, neither, neither]</td>\n",
       "      <td>0</td>\n",
       "      <td>3</td>\n",
       "      <td>0</td>\n",
       "      <td>0</td>\n",
       "      <td>neither</td>\n",
       "    </tr>\n",
       "    <tr>\n",
       "      <th>603546751841230848</th>\n",
       "      <td>NaN</td>\n",
       "      <td>2264363900</td>\n",
       "      <td>If you believe a #holohoax or #gays, LGBT &amp;amp...</td>\n",
       "      <td>both</td>\n",
       "      <td>[sexism, both, sexism]</td>\n",
       "      <td>1</td>\n",
       "      <td>0</td>\n",
       "      <td>0</td>\n",
       "      <td>2</td>\n",
       "      <td>sexism</td>\n",
       "    </tr>\n",
       "    <tr>\n",
       "      <th>603584564582326272</th>\n",
       "      <td>NaN</td>\n",
       "      <td>2198745044</td>\n",
       "      <td>Rid yourself of #Feminazi, #Fag &amp;amp; #Jewf. E...</td>\n",
       "      <td>both</td>\n",
       "      <td>[sexism, sexism, sexism]</td>\n",
       "      <td>0</td>\n",
       "      <td>0</td>\n",
       "      <td>0</td>\n",
       "      <td>3</td>\n",
       "      <td>sexism</td>\n",
       "    </tr>\n",
       "  </tbody>\n",
       "</table>\n",
       "</div>"
      ],
      "text/plain": [
       "                              Previous     User_ID  \\\n",
       "Tweet_ID                                             \n",
       "570775709343461377  570775111814373376    24414732   \n",
       "596730741490253824  596729971009196032    13857342   \n",
       "600800567426883585                 NaN   254174483   \n",
       "603546751841230848                 NaN  2264363900   \n",
       "603584564582326272                 NaN  2198745044   \n",
       "\n",
       "                                                                 Text  \\\n",
       "Tweet_ID                                                                \n",
       "570775709343461377  @TVBachelor @NewJerzeyBoy what about the femin...   \n",
       "596730741490253824  @ThelmaSleaze uh... did you watch the video? o...   \n",
       "600800567426883585  Managed to hit a bird and a small rodent on my...   \n",
       "603546751841230848  If you believe a #holohoax or #gays, LGBT &amp...   \n",
       "603584564582326272  Rid yourself of #Feminazi, #Fag &amp; #Jewf. E...   \n",
       "\n",
       "                   Expert_Annotation          Amateur_Annotations  both  \\\n",
       "Tweet_ID                                                                  \n",
       "570775709343461377              both    [neither, sexism, sexism]     0   \n",
       "596730741490253824              both    [neither, racism, sexism]     0   \n",
       "600800567426883585              both  [neither, neither, neither]     0   \n",
       "603546751841230848              both       [sexism, both, sexism]     1   \n",
       "603584564582326272              both     [sexism, sexism, sexism]     0   \n",
       "\n",
       "                    neither  racism  sexism Amateur_Annotation  \n",
       "Tweet_ID                                                        \n",
       "570775709343461377        1       0       2             sexism  \n",
       "596730741490253824        1       1       1            neither  \n",
       "600800567426883585        3       0       0            neither  \n",
       "603546751841230848        0       0       2             sexism  \n",
       "603584564582326272        0       0       3             sexism  "
      ]
     },
     "execution_count": 8,
     "metadata": {
      "tags": []
     },
     "output_type": "execute_result"
    }
   ],
   "source": [
    "wassem_css = pd.concat([wassem_css, target], join='inner', axis=1)\n",
    "wassem_css.head()"
   ]
  },
  {
   "cell_type": "code",
   "execution_count": 0,
   "metadata": {
    "colab": {},
    "colab_type": "code",
    "id": "EGAi6jyxieI_",
    "outputId": "36bb05ea-c045-4d73-ba2f-16262a97ce19"
   },
   "outputs": [
    {
     "data": {
      "text/html": [
       "<div>\n",
       "<style scoped>\n",
       "    .dataframe tbody tr th:only-of-type {\n",
       "        vertical-align: middle;\n",
       "    }\n",
       "\n",
       "    .dataframe tbody tr th {\n",
       "        vertical-align: top;\n",
       "    }\n",
       "\n",
       "    .dataframe thead th {\n",
       "        text-align: right;\n",
       "    }\n",
       "</style>\n",
       "<table border=\"1\" class=\"dataframe\">\n",
       "  <thead>\n",
       "    <tr style=\"text-align: right;\">\n",
       "      <th>Amateur_Annotation</th>\n",
       "      <th>both</th>\n",
       "      <th>neither</th>\n",
       "      <th>racism</th>\n",
       "      <th>sexism</th>\n",
       "      <th>All</th>\n",
       "    </tr>\n",
       "    <tr>\n",
       "      <th>Expert_Annotation</th>\n",
       "      <th></th>\n",
       "      <th></th>\n",
       "      <th></th>\n",
       "      <th></th>\n",
       "      <th></th>\n",
       "    </tr>\n",
       "  </thead>\n",
       "  <tbody>\n",
       "    <tr>\n",
       "      <th>both</th>\n",
       "      <td>9</td>\n",
       "      <td>11</td>\n",
       "      <td>3</td>\n",
       "      <td>12</td>\n",
       "      <td>35</td>\n",
       "    </tr>\n",
       "    <tr>\n",
       "      <th>neither</th>\n",
       "      <td>45</td>\n",
       "      <td>5146</td>\n",
       "      <td>81</td>\n",
       "      <td>457</td>\n",
       "      <td>5729</td>\n",
       "    </tr>\n",
       "    <tr>\n",
       "      <th>racism</th>\n",
       "      <td>2</td>\n",
       "      <td>50</td>\n",
       "      <td>34</td>\n",
       "      <td>2</td>\n",
       "      <td>88</td>\n",
       "    </tr>\n",
       "    <tr>\n",
       "      <th>sexism</th>\n",
       "      <td>9</td>\n",
       "      <td>161</td>\n",
       "      <td>6</td>\n",
       "      <td>639</td>\n",
       "      <td>815</td>\n",
       "    </tr>\n",
       "    <tr>\n",
       "      <th>All</th>\n",
       "      <td>65</td>\n",
       "      <td>5368</td>\n",
       "      <td>124</td>\n",
       "      <td>1110</td>\n",
       "      <td>6667</td>\n",
       "    </tr>\n",
       "  </tbody>\n",
       "</table>\n",
       "</div>"
      ],
      "text/plain": [
       "Amateur_Annotation  both  neither  racism  sexism   All\n",
       "Expert_Annotation                                      \n",
       "both                   9       11       3      12    35\n",
       "neither               45     5146      81     457  5729\n",
       "racism                 2       50      34       2    88\n",
       "sexism                 9      161       6     639   815\n",
       "All                   65     5368     124    1110  6667"
      ]
     },
     "execution_count": 9,
     "metadata": {
      "tags": []
     },
     "output_type": "execute_result"
    }
   ],
   "source": [
    "pd.crosstab(wassem_css.Expert_Annotation, wassem_css.Amateur_Annotation, margins=True)"
   ]
  },
  {
   "cell_type": "code",
   "execution_count": 0,
   "metadata": {
    "colab": {},
    "colab_type": "code",
    "id": "jzdbOdyhieJE"
   },
   "outputs": [],
   "source": [
    "# interesting to see the difference of point of view between amateur and expert\n",
    "# almost half of the sexist tweets from amateur are classified as non-sexist for the expert (457/1110)\n",
    "# more than the half of the racist tweets from expert are classified as non-racist for the amateurs (50/88)"
   ]
  },
  {
   "cell_type": "markdown",
   "metadata": {
    "colab_type": "text",
    "id": "K7sqz_7qieJH"
   },
   "source": [
    "# Sexism, racism, none"
   ]
  },
  {
   "cell_type": "code",
   "execution_count": 0,
   "metadata": {
    "colab": {},
    "colab_type": "code",
    "id": "4YM8KUmGieJI",
    "outputId": "dd4c8d02-2b8c-4d1c-f96b-18ed82ae1759"
   },
   "outputs": [
    {
     "data": {
      "text/html": [
       "<div>\n",
       "<style scoped>\n",
       "    .dataframe tbody tr th:only-of-type {\n",
       "        vertical-align: middle;\n",
       "    }\n",
       "\n",
       "    .dataframe tbody tr th {\n",
       "        vertical-align: top;\n",
       "    }\n",
       "\n",
       "    .dataframe thead th {\n",
       "        text-align: right;\n",
       "    }\n",
       "</style>\n",
       "<table border=\"1\" class=\"dataframe\">\n",
       "  <thead>\n",
       "    <tr style=\"text-align: right;\">\n",
       "      <th></th>\n",
       "      <th>Previous</th>\n",
       "      <th>User_ID</th>\n",
       "      <th>Text</th>\n",
       "      <th>Label</th>\n",
       "    </tr>\n",
       "    <tr>\n",
       "      <th>Tweet_ID</th>\n",
       "      <th></th>\n",
       "      <th></th>\n",
       "      <th></th>\n",
       "      <th></th>\n",
       "    </tr>\n",
       "  </thead>\n",
       "  <tbody>\n",
       "    <tr>\n",
       "      <th>567080871472017408</th>\n",
       "      <td>5.670786e+17</td>\n",
       "      <td>2941145694</td>\n",
       "      <td>@truaemusic The followers of the religion give...</td>\n",
       "      <td>racism</td>\n",
       "    </tr>\n",
       "    <tr>\n",
       "      <th>566098518616449024</th>\n",
       "      <td>5.660874e+17</td>\n",
       "      <td>2941145694</td>\n",
       "      <td>@Love___Egypt @washingtonpost All the land tha...</td>\n",
       "      <td>racism</td>\n",
       "    </tr>\n",
       "    <tr>\n",
       "      <th>554672350361571328</th>\n",
       "      <td>NaN</td>\n",
       "      <td>2941145694</td>\n",
       "      <td>@CamilleHughes16 @edbarber101658 @_Watch_Obser...</td>\n",
       "      <td>racism</td>\n",
       "    </tr>\n",
       "    <tr>\n",
       "      <th>569878129772081153</th>\n",
       "      <td>5.698451e+17</td>\n",
       "      <td>2941145694</td>\n",
       "      <td>@KellyTurner99 @brushyblues @buellerishere The...</td>\n",
       "      <td>racism</td>\n",
       "    </tr>\n",
       "    <tr>\n",
       "      <th>568541747849998337</th>\n",
       "      <td>NaN</td>\n",
       "      <td>2941145694</td>\n",
       "      <td>@buellerishere Who cares. ISIS does what Moham...</td>\n",
       "      <td>racism</td>\n",
       "    </tr>\n",
       "  </tbody>\n",
       "</table>\n",
       "</div>"
      ],
      "text/plain": [
       "                        Previous     User_ID  \\\n",
       "Tweet_ID                                       \n",
       "567080871472017408  5.670786e+17  2941145694   \n",
       "566098518616449024  5.660874e+17  2941145694   \n",
       "554672350361571328           NaN  2941145694   \n",
       "569878129772081153  5.698451e+17  2941145694   \n",
       "568541747849998337           NaN  2941145694   \n",
       "\n",
       "                                                                 Text   Label  \n",
       "Tweet_ID                                                                       \n",
       "567080871472017408  @truaemusic The followers of the religion give...  racism  \n",
       "566098518616449024  @Love___Egypt @washingtonpost All the land tha...  racism  \n",
       "554672350361571328  @CamilleHughes16 @edbarber101658 @_Watch_Obser...  racism  \n",
       "569878129772081153  @KellyTurner99 @brushyblues @buellerishere The...  racism  \n",
       "568541747849998337  @buellerishere Who cares. ISIS does what Moham...  racism  "
      ]
     },
     "execution_count": 11,
     "metadata": {
      "tags": []
     },
     "output_type": "execute_result"
    }
   ],
   "source": [
    "wassem_hovy_naacl = pd.read_csv(\"wassem_hovy_naacl.csv\", sep=\"\\t\", index_col=0)\n",
    "wassem_hovy_naacl.head()"
   ]
  },
  {
   "cell_type": "code",
   "execution_count": 0,
   "metadata": {
    "colab": {},
    "colab_type": "code",
    "id": "y5t8Su4qieJN",
    "outputId": "bb8099c8-c514-47f7-83ff-eab5eb59884c"
   },
   "outputs": [
    {
     "data": {
      "text/plain": [
       "none      11115\n",
       "sexism     3148\n",
       "racism     1939\n",
       "Name: Label, dtype: int64"
      ]
     },
     "execution_count": 12,
     "metadata": {
      "tags": []
     },
     "output_type": "execute_result"
    }
   ],
   "source": [
    "wassem_hovy_naacl.Label.value_counts()"
   ]
  },
  {
   "cell_type": "markdown",
   "metadata": {
    "colab_type": "text",
    "id": "3CmVKi9FieJR"
   },
   "source": [
    "# Homophobia"
   ]
  },
  {
   "cell_type": "code",
   "execution_count": 0,
   "metadata": {
    "colab": {},
    "colab_type": "code",
    "id": "xZlNK4VlieJS",
    "outputId": "d27a5b91-15d5-4706-ba43-70d1a66efb87"
   },
   "outputs": [
    {
     "data": {
      "text/html": [
       "<div>\n",
       "<style scoped>\n",
       "    .dataframe tbody tr th:only-of-type {\n",
       "        vertical-align: middle;\n",
       "    }\n",
       "\n",
       "    .dataframe tbody tr th {\n",
       "        vertical-align: top;\n",
       "    }\n",
       "\n",
       "    .dataframe thead th {\n",
       "        text-align: right;\n",
       "    }\n",
       "</style>\n",
       "<table border=\"1\" class=\"dataframe\">\n",
       "  <thead>\n",
       "    <tr style=\"text-align: right;\">\n",
       "      <th></th>\n",
       "      <th>created_at</th>\n",
       "      <th>favorites</th>\n",
       "      <th>retweets</th>\n",
       "      <th>text</th>\n",
       "      <th>tweet_id</th>\n",
       "      <th>user_id</th>\n",
       "      <th>user_name</th>\n",
       "      <th>user_screen_name</th>\n",
       "    </tr>\n",
       "  </thead>\n",
       "  <tbody>\n",
       "    <tr>\n",
       "      <th>0</th>\n",
       "      <td>1.438032e+12</td>\n",
       "      <td>55</td>\n",
       "      <td>22</td>\n",
       "      <td>American Voices: Boy Scouts To Lift Ban On Gay...</td>\n",
       "      <td>6,25778285025346E+017</td>\n",
       "      <td>318831260</td>\n",
       "      <td>Homophobes</td>\n",
       "      <td>318831260</td>\n",
       "    </tr>\n",
       "    <tr>\n",
       "      <th>1</th>\n",
       "      <td>1.421182e+12</td>\n",
       "      <td>169</td>\n",
       "      <td>119</td>\n",
       "      <td>Homosexuality is a disease!pic.twitter.com/Re2...</td>\n",
       "      <td>5,55102898556637E+017</td>\n",
       "      <td>318831260</td>\n",
       "      <td>Homophobes</td>\n",
       "      <td>318831260</td>\n",
       "    </tr>\n",
       "    <tr>\n",
       "      <th>2</th>\n",
       "      <td>1.416594e+12</td>\n",
       "      <td>12</td>\n",
       "      <td>12</td>\n",
       "      <td>Gay Man Unaware He Focus Of Thousands Of Praye...</td>\n",
       "      <td>5,35859739163243E+017</td>\n",
       "      <td>318831260</td>\n",
       "      <td>Homophobes</td>\n",
       "      <td>318831260</td>\n",
       "    </tr>\n",
       "    <tr>\n",
       "      <th>3</th>\n",
       "      <td>1.395821e+12</td>\n",
       "      <td>5</td>\n",
       "      <td>4</td>\n",
       "      <td>Stop smearing feces on the wall, homosexuals! ...</td>\n",
       "      <td>4,48730038905479E+017</td>\n",
       "      <td>318831260</td>\n",
       "      <td>Homophobes</td>\n",
       "      <td>318831260</td>\n",
       "    </tr>\n",
       "    <tr>\n",
       "      <th>4</th>\n",
       "      <td>1.374696e+12</td>\n",
       "      <td>5</td>\n",
       "      <td>16</td>\n",
       "      <td>A Straight Man Asks How to Ditch a Gay Friend ...</td>\n",
       "      <td>3,6012626215451E+017</td>\n",
       "      <td>318831260</td>\n",
       "      <td>Homophobes</td>\n",
       "      <td>318831260</td>\n",
       "    </tr>\n",
       "  </tbody>\n",
       "</table>\n",
       "</div>"
      ],
      "text/plain": [
       "     created_at  favorites  retweets  \\\n",
       "0  1.438032e+12         55        22   \n",
       "1  1.421182e+12        169       119   \n",
       "2  1.416594e+12         12        12   \n",
       "3  1.395821e+12          5         4   \n",
       "4  1.374696e+12          5        16   \n",
       "\n",
       "                                                text               tweet_id  \\\n",
       "0  American Voices: Boy Scouts To Lift Ban On Gay...  6,25778285025346E+017   \n",
       "1  Homosexuality is a disease!pic.twitter.com/Re2...  5,55102898556637E+017   \n",
       "2  Gay Man Unaware He Focus Of Thousands Of Praye...  5,35859739163243E+017   \n",
       "3  Stop smearing feces on the wall, homosexuals! ...  4,48730038905479E+017   \n",
       "4  A Straight Man Asks How to Ditch a Gay Friend ...   3,6012626215451E+017   \n",
       "\n",
       "     user_id   user_name  user_screen_name  \n",
       "0  318831260  Homophobes         318831260  \n",
       "1  318831260  Homophobes         318831260  \n",
       "2  318831260  Homophobes         318831260  \n",
       "3  318831260  Homophobes         318831260  \n",
       "4  318831260  Homophobes         318831260  "
      ]
     },
     "execution_count": 13,
     "metadata": {
      "tags": []
     },
     "output_type": "execute_result"
    }
   ],
   "source": [
    "homophobia = pd.read_csv(\"homophobes_tweets_checked.csv\")\n",
    "homophobia.head()"
   ]
  },
  {
   "cell_type": "code",
   "execution_count": 0,
   "metadata": {
    "colab": {},
    "colab_type": "code",
    "id": "xmySEwxdieJX"
   },
   "outputs": [],
   "source": [
    "homophobia['label'] = 'homophobia'"
   ]
  },
  {
   "cell_type": "code",
   "execution_count": 0,
   "metadata": {
    "colab": {},
    "colab_type": "code",
    "id": "KXVgzwXcieJa",
    "outputId": "5a033d71-6976-4ee0-a87f-b3f87c0a187c"
   },
   "outputs": [
    {
     "data": {
      "text/html": [
       "<div>\n",
       "<style scoped>\n",
       "    .dataframe tbody tr th:only-of-type {\n",
       "        vertical-align: middle;\n",
       "    }\n",
       "\n",
       "    .dataframe tbody tr th {\n",
       "        vertical-align: top;\n",
       "    }\n",
       "\n",
       "    .dataframe thead th {\n",
       "        text-align: right;\n",
       "    }\n",
       "</style>\n",
       "<table border=\"1\" class=\"dataframe\">\n",
       "  <thead>\n",
       "    <tr style=\"text-align: right;\">\n",
       "      <th></th>\n",
       "      <th>created_at</th>\n",
       "      <th>favorites</th>\n",
       "      <th>retweets</th>\n",
       "      <th>text</th>\n",
       "      <th>tweet_id</th>\n",
       "      <th>user_id</th>\n",
       "      <th>user_name</th>\n",
       "      <th>user_screen_name</th>\n",
       "      <th>label</th>\n",
       "    </tr>\n",
       "  </thead>\n",
       "  <tbody>\n",
       "    <tr>\n",
       "      <th>0</th>\n",
       "      <td>1.438032e+12</td>\n",
       "      <td>55</td>\n",
       "      <td>22</td>\n",
       "      <td>American Voices: Boy Scouts To Lift Ban On Gay...</td>\n",
       "      <td>6,25778285025346E+017</td>\n",
       "      <td>318831260</td>\n",
       "      <td>Homophobes</td>\n",
       "      <td>318831260</td>\n",
       "      <td>homophobia</td>\n",
       "    </tr>\n",
       "    <tr>\n",
       "      <th>1</th>\n",
       "      <td>1.421182e+12</td>\n",
       "      <td>169</td>\n",
       "      <td>119</td>\n",
       "      <td>Homosexuality is a disease!pic.twitter.com/Re2...</td>\n",
       "      <td>5,55102898556637E+017</td>\n",
       "      <td>318831260</td>\n",
       "      <td>Homophobes</td>\n",
       "      <td>318831260</td>\n",
       "      <td>homophobia</td>\n",
       "    </tr>\n",
       "    <tr>\n",
       "      <th>2</th>\n",
       "      <td>1.416594e+12</td>\n",
       "      <td>12</td>\n",
       "      <td>12</td>\n",
       "      <td>Gay Man Unaware He Focus Of Thousands Of Praye...</td>\n",
       "      <td>5,35859739163243E+017</td>\n",
       "      <td>318831260</td>\n",
       "      <td>Homophobes</td>\n",
       "      <td>318831260</td>\n",
       "      <td>homophobia</td>\n",
       "    </tr>\n",
       "    <tr>\n",
       "      <th>3</th>\n",
       "      <td>1.395821e+12</td>\n",
       "      <td>5</td>\n",
       "      <td>4</td>\n",
       "      <td>Stop smearing feces on the wall, homosexuals! ...</td>\n",
       "      <td>4,48730038905479E+017</td>\n",
       "      <td>318831260</td>\n",
       "      <td>Homophobes</td>\n",
       "      <td>318831260</td>\n",
       "      <td>homophobia</td>\n",
       "    </tr>\n",
       "    <tr>\n",
       "      <th>4</th>\n",
       "      <td>1.374696e+12</td>\n",
       "      <td>5</td>\n",
       "      <td>16</td>\n",
       "      <td>A Straight Man Asks How to Ditch a Gay Friend ...</td>\n",
       "      <td>3,6012626215451E+017</td>\n",
       "      <td>318831260</td>\n",
       "      <td>Homophobes</td>\n",
       "      <td>318831260</td>\n",
       "      <td>homophobia</td>\n",
       "    </tr>\n",
       "  </tbody>\n",
       "</table>\n",
       "</div>"
      ],
      "text/plain": [
       "     created_at  favorites  retweets  \\\n",
       "0  1.438032e+12         55        22   \n",
       "1  1.421182e+12        169       119   \n",
       "2  1.416594e+12         12        12   \n",
       "3  1.395821e+12          5         4   \n",
       "4  1.374696e+12          5        16   \n",
       "\n",
       "                                                text               tweet_id  \\\n",
       "0  American Voices: Boy Scouts To Lift Ban On Gay...  6,25778285025346E+017   \n",
       "1  Homosexuality is a disease!pic.twitter.com/Re2...  5,55102898556637E+017   \n",
       "2  Gay Man Unaware He Focus Of Thousands Of Praye...  5,35859739163243E+017   \n",
       "3  Stop smearing feces on the wall, homosexuals! ...  4,48730038905479E+017   \n",
       "4  A Straight Man Asks How to Ditch a Gay Friend ...   3,6012626215451E+017   \n",
       "\n",
       "     user_id   user_name  user_screen_name       label  \n",
       "0  318831260  Homophobes         318831260  homophobia  \n",
       "1  318831260  Homophobes         318831260  homophobia  \n",
       "2  318831260  Homophobes         318831260  homophobia  \n",
       "3  318831260  Homophobes         318831260  homophobia  \n",
       "4  318831260  Homophobes         318831260  homophobia  "
      ]
     },
     "execution_count": 15,
     "metadata": {
      "tags": []
     },
     "output_type": "execute_result"
    }
   ],
   "source": [
    "homophobia.head()"
   ]
  },
  {
   "cell_type": "markdown",
   "metadata": {
    "colab_type": "text",
    "id": "Tj50KCZQieJe"
   },
   "source": [
    "# Merge in one dataset"
   ]
  },
  {
   "cell_type": "code",
   "execution_count": 0,
   "metadata": {
    "colab": {},
    "colab_type": "code",
    "id": "vknkR574ieJf",
    "outputId": "43a0708a-d14f-4e1b-c500-2194d9303906"
   },
   "outputs": [
    {
     "data": {
      "text/plain": [
       "array(['both', 'racism', 'sexism', 'neither'], dtype=object)"
      ]
     },
     "execution_count": 16,
     "metadata": {
      "tags": []
     },
     "output_type": "execute_result"
    }
   ],
   "source": [
    "# wassem css: keep sexism and neither\n",
    "wassem_css.Expert_Annotation.unique()"
   ]
  },
  {
   "cell_type": "code",
   "execution_count": 0,
   "metadata": {
    "colab": {},
    "colab_type": "code",
    "id": "UOtvQoCcieJj"
   },
   "outputs": [],
   "source": [
    "wassem_css.reset_index(inplace=True)"
   ]
  },
  {
   "cell_type": "code",
   "execution_count": 0,
   "metadata": {
    "colab": {},
    "colab_type": "code",
    "id": "tmn5tYFTieJm"
   },
   "outputs": [],
   "source": [
    "sexism = wassem_css.loc[wassem_css.Expert_Annotation.isin(['sexism', 'neither']),\n",
    "                        [\"Tweet_ID\", \"Text\", \"Expert_Annotation\"]]"
   ]
  },
  {
   "cell_type": "code",
   "execution_count": 0,
   "metadata": {
    "colab": {},
    "colab_type": "code",
    "id": "7fiF51_IieJq",
    "outputId": "5c968aec-7a08-4399-fb24-cf54b5ba320a"
   },
   "outputs": [
    {
     "data": {
      "text/plain": [
       "array(['racism', 'sexism', 'none'], dtype=object)"
      ]
     },
     "execution_count": 19,
     "metadata": {
      "tags": []
     },
     "output_type": "execute_result"
    }
   ],
   "source": [
    "# wassem_hovy_naacl: keep sexism and none\n",
    "wassem_hovy_naacl.Label.unique()"
   ]
  },
  {
   "cell_type": "code",
   "execution_count": 0,
   "metadata": {
    "colab": {},
    "colab_type": "code",
    "id": "JDgtOs7ZieJt"
   },
   "outputs": [],
   "source": [
    "wassem_hovy_naacl.reset_index(inplace=True)"
   ]
  },
  {
   "cell_type": "code",
   "execution_count": 0,
   "metadata": {
    "colab": {},
    "colab_type": "code",
    "id": "gesrOsqqieJw"
   },
   "outputs": [],
   "source": [
    "sexism2 = wassem_hovy_naacl.loc[wassem_hovy_naacl.Label.isin(['sexism', 'none']),\n",
    "                      [\"Tweet_ID\", \"Text\", \"Label\"]]"
   ]
  },
  {
   "cell_type": "code",
   "execution_count": 0,
   "metadata": {
    "colab": {},
    "colab_type": "code",
    "id": "HycpyAtVieJ2"
   },
   "outputs": [],
   "source": [
    "# homophobia: keep all rows but only the columns tweet_id, text, label\n",
    "homophobia = homophobia.loc[:, [\"tweet_id\", \"text\", \"label\"]]"
   ]
  },
  {
   "cell_type": "markdown",
   "metadata": {
    "colab_type": "text",
    "id": "H6j2q9HGieJ4"
   },
   "source": [
    "### Rename columns and merge"
   ]
  },
  {
   "cell_type": "code",
   "execution_count": 0,
   "metadata": {
    "colab": {},
    "colab_type": "code",
    "id": "3x8UJkf1ieJ5"
   },
   "outputs": [],
   "source": [
    "sexism.rename(columns={'Tweet_ID': 'tweet_id', 'Text': 'text', 'Expert_Annotation': 'label'}, inplace=True)\n",
    "sexism['label'] = sexism.label.str.replace('neither', 'none')\n",
    "sexism2.rename(columns={'Tweet_ID': 'tweet_id', 'Text': 'text', 'Label': 'label'}, inplace=True)"
   ]
  },
  {
   "cell_type": "code",
   "execution_count": 0,
   "metadata": {
    "colab": {},
    "colab_type": "code",
    "id": "Jl8oJPQJieJ8",
    "outputId": "5e728a65-fa27-46d3-a5d0-3b0762d05ee8"
   },
   "outputs": [
    {
     "data": {
      "text/plain": [
       "tweet_id     int64\n",
       "text        object\n",
       "label       object\n",
       "dtype: object"
      ]
     },
     "metadata": {
      "tags": []
     },
     "output_type": "display_data"
    },
    {
     "data": {
      "text/plain": [
       "tweet_id     int64\n",
       "text        object\n",
       "label       object\n",
       "dtype: object"
      ]
     },
     "metadata": {
      "tags": []
     },
     "output_type": "display_data"
    },
    {
     "data": {
      "text/plain": [
       "tweet_id    object\n",
       "text        object\n",
       "label       object\n",
       "dtype: object"
      ]
     },
     "metadata": {
      "tags": []
     },
     "output_type": "display_data"
    }
   ],
   "source": [
    "display(sexism.dtypes)\n",
    "display(sexism2.dtypes)\n",
    "display(homophobia.dtypes)"
   ]
  },
  {
   "cell_type": "code",
   "execution_count": 0,
   "metadata": {
    "colab": {},
    "colab_type": "code",
    "id": "2eJL5V99ieJ_",
    "scrolled": true
   },
   "outputs": [],
   "source": [
    "sexism = sexism.astype(str)\n",
    "sexism2 = sexism2.astype(str)\n",
    "homophobia = homophobia.astype(str)"
   ]
  },
  {
   "cell_type": "code",
   "execution_count": 0,
   "metadata": {
    "colab": {},
    "colab_type": "code",
    "id": "p-BM9emZieKB",
    "outputId": "00ceec99-8f47-41ba-f9ef-bdd9c570212e"
   },
   "outputs": [
    {
     "data": {
      "text/plain": [
       "tweet_id    object\n",
       "text        object\n",
       "label       object\n",
       "dtype: object"
      ]
     },
     "metadata": {
      "tags": []
     },
     "output_type": "display_data"
    },
    {
     "data": {
      "text/plain": [
       "tweet_id    object\n",
       "text        object\n",
       "label       object\n",
       "dtype: object"
      ]
     },
     "metadata": {
      "tags": []
     },
     "output_type": "display_data"
    },
    {
     "data": {
      "text/plain": [
       "tweet_id    object\n",
       "text        object\n",
       "label       object\n",
       "dtype: object"
      ]
     },
     "metadata": {
      "tags": []
     },
     "output_type": "display_data"
    }
   ],
   "source": [
    "display(sexism.dtypes)\n",
    "display(sexism2.dtypes)\n",
    "display(homophobia.dtypes)"
   ]
  },
  {
   "cell_type": "code",
   "execution_count": 0,
   "metadata": {
    "colab": {},
    "colab_type": "code",
    "id": "diMDWrahieKD"
   },
   "outputs": [],
   "source": [
    "data = pd.concat([sexism, sexism2, homophobia], axis=0)"
   ]
  },
  {
   "cell_type": "code",
   "execution_count": 0,
   "metadata": {
    "colab": {},
    "colab_type": "code",
    "id": "gkxzlnf_ieKF",
    "outputId": "637ac216-bd9a-42cf-894d-2768a7ff4dac"
   },
   "outputs": [
    {
     "data": {
      "text/html": [
       "<div>\n",
       "<style scoped>\n",
       "    .dataframe tbody tr th:only-of-type {\n",
       "        vertical-align: middle;\n",
       "    }\n",
       "\n",
       "    .dataframe tbody tr th {\n",
       "        vertical-align: top;\n",
       "    }\n",
       "\n",
       "    .dataframe thead th {\n",
       "        text-align: right;\n",
       "    }\n",
       "</style>\n",
       "<table border=\"1\" class=\"dataframe\">\n",
       "  <thead>\n",
       "    <tr style=\"text-align: right;\">\n",
       "      <th></th>\n",
       "      <th>tweet_id</th>\n",
       "      <th>text</th>\n",
       "      <th>label</th>\n",
       "    </tr>\n",
       "  </thead>\n",
       "  <tbody>\n",
       "    <tr>\n",
       "      <th>123</th>\n",
       "      <td>576424537065156608</td>\n",
       "      <td>@AAmbrosim a ta. Kkkk kkkk as feminazi</td>\n",
       "      <td>sexism</td>\n",
       "    </tr>\n",
       "    <tr>\n",
       "      <th>124</th>\n",
       "      <td>570757526846881792</td>\n",
       "      <td>@Javanzord @Douglas_Feer feminazi</td>\n",
       "      <td>sexism</td>\n",
       "    </tr>\n",
       "    <tr>\n",
       "      <th>125</th>\n",
       "      <td>576536812283269121</td>\n",
       "      <td>bro my icon is literally feminazi misanandrist...</td>\n",
       "      <td>sexism</td>\n",
       "    </tr>\n",
       "    <tr>\n",
       "      <th>126</th>\n",
       "      <td>576428713023143936</td>\n",
       "      <td>RT @PhilGonc: @Independent \"Stop Male Violence...</td>\n",
       "      <td>sexism</td>\n",
       "    </tr>\n",
       "    <tr>\n",
       "      <th>127</th>\n",
       "      <td>572336406053322753</td>\n",
       "      <td>Sauce, capsicum and stock from a packet / jar....</td>\n",
       "      <td>sexism</td>\n",
       "    </tr>\n",
       "  </tbody>\n",
       "</table>\n",
       "</div>"
      ],
      "text/plain": [
       "               tweet_id                                               text  \\\n",
       "123  576424537065156608             @AAmbrosim a ta. Kkkk kkkk as feminazi   \n",
       "124  570757526846881792                  @Javanzord @Douglas_Feer feminazi   \n",
       "125  576536812283269121  bro my icon is literally feminazi misanandrist...   \n",
       "126  576428713023143936  RT @PhilGonc: @Independent \"Stop Male Violence...   \n",
       "127  572336406053322753  Sauce, capsicum and stock from a packet / jar....   \n",
       "\n",
       "      label  \n",
       "123  sexism  \n",
       "124  sexism  \n",
       "125  sexism  \n",
       "126  sexism  \n",
       "127  sexism  "
      ]
     },
     "execution_count": 29,
     "metadata": {
      "tags": []
     },
     "output_type": "execute_result"
    }
   ],
   "source": [
    "data.head()"
   ]
  },
  {
   "cell_type": "code",
   "execution_count": 0,
   "metadata": {
    "colab": {},
    "colab_type": "code",
    "id": "l_pqWOyjieKH"
   },
   "outputs": [],
   "source": [
    "data.reset_index(drop=True, inplace=True)"
   ]
  },
  {
   "cell_type": "code",
   "execution_count": 0,
   "metadata": {
    "colab": {},
    "colab_type": "code",
    "id": "CCknUoayieKJ",
    "outputId": "498f2d0c-dd04-4424-dcc5-067b08134074"
   },
   "outputs": [
    {
     "data": {
      "text/plain": [
       "none          16844\n",
       "sexism         3963\n",
       "homophobia       87\n",
       "Name: label, dtype: int64"
      ]
     },
     "execution_count": 31,
     "metadata": {
      "tags": []
     },
     "output_type": "execute_result"
    }
   ],
   "source": [
    "data.label.value_counts()"
   ]
  },
  {
   "cell_type": "code",
   "execution_count": 0,
   "metadata": {
    "colab": {},
    "colab_type": "code",
    "id": "b-_HbQWpieKL",
    "outputId": "d440cd90-38ce-46d3-965c-bc141016c738"
   },
   "outputs": [
    {
     "data": {
      "text/html": [
       "<div>\n",
       "<style scoped>\n",
       "    .dataframe tbody tr th:only-of-type {\n",
       "        vertical-align: middle;\n",
       "    }\n",
       "\n",
       "    .dataframe tbody tr th {\n",
       "        vertical-align: top;\n",
       "    }\n",
       "\n",
       "    .dataframe thead th {\n",
       "        text-align: right;\n",
       "    }\n",
       "</style>\n",
       "<table border=\"1\" class=\"dataframe\">\n",
       "  <thead>\n",
       "    <tr style=\"text-align: right;\">\n",
       "      <th></th>\n",
       "      <th>tweet_id</th>\n",
       "      <th>text</th>\n",
       "      <th>label</th>\n",
       "    </tr>\n",
       "  </thead>\n",
       "  <tbody>\n",
       "    <tr>\n",
       "      <th>0</th>\n",
       "      <td>576424537065156608</td>\n",
       "      <td>@AAmbrosim a ta. Kkkk kkkk as feminazi</td>\n",
       "      <td>sexism</td>\n",
       "    </tr>\n",
       "    <tr>\n",
       "      <th>1</th>\n",
       "      <td>570757526846881792</td>\n",
       "      <td>@Javanzord @Douglas_Feer feminazi</td>\n",
       "      <td>sexism</td>\n",
       "    </tr>\n",
       "    <tr>\n",
       "      <th>2</th>\n",
       "      <td>576536812283269121</td>\n",
       "      <td>bro my icon is literally feminazi misanandrist...</td>\n",
       "      <td>sexism</td>\n",
       "    </tr>\n",
       "    <tr>\n",
       "      <th>3</th>\n",
       "      <td>576428713023143936</td>\n",
       "      <td>RT @PhilGonc: @Independent \"Stop Male Violence...</td>\n",
       "      <td>sexism</td>\n",
       "    </tr>\n",
       "    <tr>\n",
       "      <th>4</th>\n",
       "      <td>572336406053322753</td>\n",
       "      <td>Sauce, capsicum and stock from a packet / jar....</td>\n",
       "      <td>sexism</td>\n",
       "    </tr>\n",
       "  </tbody>\n",
       "</table>\n",
       "</div>"
      ],
      "text/plain": [
       "             tweet_id                                               text  \\\n",
       "0  576424537065156608             @AAmbrosim a ta. Kkkk kkkk as feminazi   \n",
       "1  570757526846881792                  @Javanzord @Douglas_Feer feminazi   \n",
       "2  576536812283269121  bro my icon is literally feminazi misanandrist...   \n",
       "3  576428713023143936  RT @PhilGonc: @Independent \"Stop Male Violence...   \n",
       "4  572336406053322753  Sauce, capsicum and stock from a packet / jar....   \n",
       "\n",
       "    label  \n",
       "0  sexism  \n",
       "1  sexism  \n",
       "2  sexism  \n",
       "3  sexism  \n",
       "4  sexism  "
      ]
     },
     "execution_count": 32,
     "metadata": {
      "tags": []
     },
     "output_type": "execute_result"
    }
   ],
   "source": [
    "data.head()"
   ]
  },
  {
   "cell_type": "code",
   "execution_count": 0,
   "metadata": {
    "colab": {},
    "colab_type": "code",
    "id": "_CZhK9jqieKP",
    "outputId": "dae46662-497f-4bd8-baa7-9522ddc7c881"
   },
   "outputs": [
    {
     "data": {
      "text/html": [
       "<div>\n",
       "<style scoped>\n",
       "    .dataframe tbody tr th:only-of-type {\n",
       "        vertical-align: middle;\n",
       "    }\n",
       "\n",
       "    .dataframe tbody tr th {\n",
       "        vertical-align: top;\n",
       "    }\n",
       "\n",
       "    .dataframe thead th {\n",
       "        text-align: right;\n",
       "    }\n",
       "</style>\n",
       "<table border=\"1\" class=\"dataframe\">\n",
       "  <thead>\n",
       "    <tr style=\"text-align: right;\">\n",
       "      <th></th>\n",
       "      <th>tweet_id</th>\n",
       "      <th>text</th>\n",
       "      <th>label</th>\n",
       "    </tr>\n",
       "  </thead>\n",
       "  <tbody>\n",
       "    <tr>\n",
       "      <th>20889</th>\n",
       "      <td>1,86961697997722E+017</td>\n",
       "      <td>In case you missed it: A Homophobe's Guide for...</td>\n",
       "      <td>homophobia</td>\n",
       "    </tr>\n",
       "    <tr>\n",
       "      <th>20890</th>\n",
       "      <td>1,86629008824349E+017</td>\n",
       "      <td>A Homophobe's Guide for Dealing with a Gay Chi...</td>\n",
       "      <td>homophobia</td>\n",
       "    </tr>\n",
       "    <tr>\n",
       "      <th>20891</th>\n",
       "      <td>1,8563977082583E+017</td>\n",
       "      <td>Joey Mitchell (@basementatheist) reads through...</td>\n",
       "      <td>homophobia</td>\n",
       "    </tr>\n",
       "    <tr>\n",
       "      <th>20892</th>\n",
       "      <td>1,82386216543601E+017</td>\n",
       "      <td>Why I Hate Gay People.  http://www.youtube.com...</td>\n",
       "      <td>homophobia</td>\n",
       "    </tr>\n",
       "    <tr>\n",
       "      <th>20893</th>\n",
       "      <td>1,7840229184453E+017</td>\n",
       "      <td>Stop making up your own rules! Do things the w...</td>\n",
       "      <td>homophobia</td>\n",
       "    </tr>\n",
       "  </tbody>\n",
       "</table>\n",
       "</div>"
      ],
      "text/plain": [
       "                    tweet_id  \\\n",
       "20889  1,86961697997722E+017   \n",
       "20890  1,86629008824349E+017   \n",
       "20891   1,8563977082583E+017   \n",
       "20892  1,82386216543601E+017   \n",
       "20893   1,7840229184453E+017   \n",
       "\n",
       "                                                    text       label  \n",
       "20889  In case you missed it: A Homophobe's Guide for...  homophobia  \n",
       "20890  A Homophobe's Guide for Dealing with a Gay Chi...  homophobia  \n",
       "20891  Joey Mitchell (@basementatheist) reads through...  homophobia  \n",
       "20892  Why I Hate Gay People.  http://www.youtube.com...  homophobia  \n",
       "20893  Stop making up your own rules! Do things the w...  homophobia  "
      ]
     },
     "execution_count": 33,
     "metadata": {
      "tags": []
     },
     "output_type": "execute_result"
    }
   ],
   "source": [
    "data.tail()"
   ]
  },
  {
   "cell_type": "code",
   "execution_count": 0,
   "metadata": {
    "colab": {},
    "colab_type": "code",
    "id": "Lipjwo6vieKR",
    "outputId": "96ec8059-d832-4afe-91fc-aac582f43376"
   },
   "outputs": [
    {
     "name": "stdout",
     "output_type": "stream",
     "text": [
      "<class 'pandas.core.frame.DataFrame'>\n",
      "RangeIndex: 20894 entries, 0 to 20893\n",
      "Data columns (total 3 columns):\n",
      "tweet_id    20894 non-null object\n",
      "text        20894 non-null object\n",
      "label       20894 non-null object\n",
      "dtypes: object(3)\n",
      "memory usage: 489.8+ KB\n"
     ]
    }
   ],
   "source": [
    "data.info()"
   ]
  },
  {
   "cell_type": "code",
   "execution_count": 0,
   "metadata": {
    "colab": {},
    "colab_type": "code",
    "id": "Ol3GdmcDieKU"
   },
   "outputs": [],
   "source": [
    "data.to_csv('detect_hate_speech_data.csv', sep='|')"
   ]
  }
 ],
 "metadata": {
  "colab": {
   "collapsed_sections": [
    "H6j2q9HGieJ4"
   ],
   "name": "dhs_data_wrangling.ipynb",
   "provenance": [],
   "version": "0.3.2"
  },
  "kernelspec": {
   "display_name": "Python 3",
   "language": "python",
   "name": "python3"
  },
  "language_info": {
   "codemirror_mode": {
    "name": "ipython",
    "version": 3
   },
   "file_extension": ".py",
   "mimetype": "text/x-python",
   "name": "python",
   "nbconvert_exporter": "python",
   "pygments_lexer": "ipython3",
   "version": "3.6.2"
  }
 },
 "nbformat": 4,
 "nbformat_minor": 1
}
